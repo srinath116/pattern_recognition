{
 "cells": [
  {
   "cell_type": "code",
   "execution_count": 1,
   "metadata": {},
   "outputs": [],
   "source": [
    "from scipy.spatial import distance\n",
    "import numpy as np"
   ]
  },
  {
   "cell_type": "code",
   "execution_count": 95,
   "metadata": {},
   "outputs": [],
   "source": [
    "def MD(x):\n",
    "    n=len(x)\n",
    "    y=np.array(x)\n",
    "    mean=np.mean(y, axis=0)\n",
    "    print(\"mean of each dimension\")\n",
    "    print(mean)\n",
    "    print(\"\")\n",
    "    for x in y:\n",
    "        z=y-mean\n",
    "    print(\"deviation matrix\")\n",
    "    print(z)\n",
    "    k=z.T\n",
    "    #print(k.shape)\n",
    "    t=np.matmul(k, z)/(n-1)\n",
    "    print(\"co-variance matrix\")\n",
    "    print(t)\n",
    "    print(\"inverse covariance matrix\")\n",
    "    p = np.linalg.inv(t)\n",
    "    print(p)\n",
    "    return p,mean\n",
    "    \n",
    "    "
   ]
  },
  {
   "cell_type": "code",
   "execution_count": 110,
   "metadata": {},
   "outputs": [],
   "source": [
    "def medv(covar,mean,v):\n",
    "    vect=np.array(v)\n",
    "    vect=vect-mean;\n",
    "    \n",
    "    vectt=np.array(vect.T)\n",
    "   \n",
    "    z=np.matmul(vectt,covar)\n",
    "    return np.sqrt(np.matmul(z,vect))"
   ]
  },
  {
   "cell_type": "code",
   "execution_count": 112,
   "metadata": {},
   "outputs": [],
   "source": [
    "#inputs\n",
    "x=[[28,31,130.0,68.12],\n",
    "   [24,28,143.0,127.89],\n",
    "   [28,20,136.0,89.03],\n",
    "   [32,34,130.5,78.28],\n",
    "   [22,15, 125.0, 134.08],\n",
    "   [26,37,147.5,135.31],\n",
    "   [24 ,19 ,135.0 ,130.48],\n",
    "   [28 ,22 ,125.0,86.48],\n",
    "    [24,26,127.0,129.47],\n",
    "   [30,21 ,139.0,82.43],\n",
    "  [22,20,121.5,127.41],\n",
    "  [30,38,150.5,71.21],\n",
    "  [24,17 ,120.0, 132.06],\n",
    "  [26,20,125.0,90.85]]\n",
    "v1=[[30 ,20, 133, 189.6]\n",
    ",[22 ,30 ,100.06 ,126.0075]\n",
    ",[28.47 ,20.11, 133.06, 188.90]]\n"
   ]
  },
  {
   "cell_type": "code",
   "execution_count": 113,
   "metadata": {},
   "outputs": [
    {
     "name": "stdout",
     "output_type": "stream",
     "text": [
      "mean of each dimension\n",
      "[ 26.28571429  24.85714286 132.5        105.93571429]\n",
      "\n",
      "deviation matrix\n",
      "[[  1.71428571   6.14285714  -2.5        -37.81571429]\n",
      " [ -2.28571429   3.14285714  10.5         21.95428571]\n",
      " [  1.71428571  -4.85714286   3.5        -16.90571429]\n",
      " [  5.71428571   9.14285714  -2.         -27.65571429]\n",
      " [ -4.28571429  -9.85714286  -7.5         28.14428571]\n",
      " [ -0.28571429  12.14285714  15.          29.37428571]\n",
      " [ -2.28571429  -5.85714286   2.5         24.54428571]\n",
      " [  1.71428571  -2.85714286  -7.5        -19.45571429]\n",
      " [ -2.28571429   1.14285714  -5.5         23.53428571]\n",
      " [  3.71428571  -3.85714286   6.5        -23.50571429]\n",
      " [ -4.28571429  -4.85714286 -11.          21.47428571]\n",
      " [  3.71428571  13.14285714  18.         -34.72571429]\n",
      " [ -2.28571429  -7.85714286 -12.5         26.12428571]\n",
      " [ -0.28571429  -4.85714286  -7.5        -15.08571429]]\n",
      "(4, 14)\n",
      "co-variance matrix\n",
      "[[  9.75824176  12.81318681  12.07692308 -72.15406593]\n",
      " [ 12.81318681  56.9010989   49.11538462 -70.62065934]\n",
      " [ 12.07692308  49.11538462  92.80769231 -46.06961538]\n",
      " [-72.15406593 -70.62065934 -46.06961538 714.00118022]]\n",
      "inverse covariance matrix\n",
      "[[ 0.58465881 -0.04194565 -0.02749362  0.0531605 ]\n",
      " [-0.04194565  0.03896147 -0.01585996 -0.00140858]\n",
      " [-0.02749362 -0.01585996  0.02126939 -0.00297471]\n",
      " [ 0.0531605  -0.00140858 -0.00297471  0.00644149]]\n"
     ]
    }
   ],
   "source": [
    "covarin,mean=MD(x)\n",
    "d=[]"
   ]
  },
  {
   "cell_type": "code",
   "execution_count": 103,
   "metadata": {},
   "outputs": [],
   "source": [
    "for i in range (3):\n",
    "    d.append(medv(covarin,mean,v[i]))"
   ]
  },
  {
   "cell_type": "code",
   "execution_count": 104,
   "metadata": {},
   "outputs": [
    {
     "name": "stdout",
     "output_type": "stream",
     "text": [
      "[73.32360904593365, 84.54255206709864, 74.25374985369379]\n"
     ]
    }
   ],
   "source": [
    "print(d)"
   ]
  },
  {
   "cell_type": "code",
   "execution_count": 105,
   "metadata": {},
   "outputs": [
    {
     "name": "stdout",
     "output_type": "stream",
     "text": [
      "73.32360904593365\n"
     ]
    }
   ],
   "source": [
    "print(np.min(d))"
   ]
  },
  {
   "cell_type": "code",
   "execution_count": 106,
   "metadata": {},
   "outputs": [],
   "source": [
    "x=[[64,580,29],\n",
    "   [66,570,33],\n",
    "   [68,590,37],\n",
    "   [69,660,46],\n",
    "   [73,600,55]\n",
    "  ]"
   ]
  },
  {
   "cell_type": "code",
   "execution_count": 107,
   "metadata": {},
   "outputs": [
    {
     "name": "stdout",
     "output_type": "stream",
     "text": [
      "5\n",
      "mean of each dimension\n",
      "[ 68. 600.  40.]\n",
      "\n",
      "deviation matrix\n",
      "[[ -4. -20. -11.]\n",
      " [ -2. -30.  -7.]\n",
      " [  0. -10.  -3.]\n",
      " [  1.  60.   6.]\n",
      " [  5.   0.  15.]]\n",
      "(3, 5)\n",
      "co-variance matrix\n",
      "[[  11.5    50.     34.75]\n",
      " [  50.   1250.    205.  ]\n",
      " [  34.75  205.    110.  ]]\n",
      "inverse covariance matrix\n",
      "[[ 3.68851865e+00  6.27308946e-02 -1.28214415e+00]\n",
      " [ 6.27308946e-02  2.21900278e-03 -2.39526742e-02]\n",
      " [-1.28214415e+00 -2.39526742e-02  4.58770977e-01]]\n"
     ]
    }
   ],
   "source": [
    "print(len(x))\n",
    "covarin,mean=MD(x)"
   ]
  },
  {
   "cell_type": "code",
   "execution_count": 108,
   "metadata": {},
   "outputs": [],
   "source": [
    "d=medv(covarin,mean,[66,640,44])"
   ]
  },
  {
   "cell_type": "code",
   "execution_count": 109,
   "metadata": {},
   "outputs": [
    {
     "data": {
      "text/plain": [
       "5.334540488762537"
      ]
     },
     "execution_count": 109,
     "metadata": {},
     "output_type": "execute_result"
    }
   ],
   "source": [
    "d"
   ]
  },
  {
   "cell_type": "code",
   "execution_count": 111,
   "metadata": {},
   "outputs": [],
   "source": []
  },
  {
   "cell_type": "code",
   "execution_count": null,
   "metadata": {},
   "outputs": [],
   "source": []
  }
 ],
 "metadata": {
  "kernelspec": {
   "display_name": "Python 3",
   "language": "python",
   "name": "python3"
  },
  "language_info": {
   "codemirror_mode": {
    "name": "ipython",
    "version": 3
   },
   "file_extension": ".py",
   "mimetype": "text/x-python",
   "name": "python",
   "nbconvert_exporter": "python",
   "pygments_lexer": "ipython3",
   "version": "3.6.7"
  }
 },
 "nbformat": 4,
 "nbformat_minor": 2
}
