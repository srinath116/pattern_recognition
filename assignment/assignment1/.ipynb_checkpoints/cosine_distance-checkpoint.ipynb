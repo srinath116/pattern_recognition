{
 "cells": [
  {
   "cell_type": "code",
   "execution_count": 57,
   "metadata": {},
   "outputs": [
    {
     "name": "stdout",
     "output_type": "stream",
     "text": [
      "cosine sim using used defined func\n",
      "0.7369616203114283\n",
      "cosine sim using in built function\n",
      "0.7369616203114283\n"
     ]
    }
   ],
   "source": [
    "import numpy as np\n",
    "\n",
    "from collections import Counter\n",
    "from sklearn.feature_extraction.text import CountVectorizer\n",
    "from sklearn.metrics.pairwise import cosine_similarity\n",
    "def cosinesimilarity(vectors):\n",
    "    return np.dot(vectors[0],vectors[1])/(np.linalg.norm(vectors[1])*np.linalg.norm(vectors[0]))\n",
    "def get_cosine_sim(*strs): \n",
    "    vectors = [t for t in get_vectors(*strs)]\n",
    "    print(\"cosine sim using used defined func\")\n",
    "    print(cosinesimilarity(vectors))\n",
    "    print(\"cosine sim using in built function\")\n",
    "    x=cosine_similarity(vectors)\n",
    "    \n",
    "    \n",
    "    print(1-x[0][1])\n",
    "    \n",
    "    \n",
    "def get_vectors(*strs):\n",
    "    text = [t for t in strs]\n",
    "    vectorizer = CountVectorizer(text)\n",
    "    vectorizer.fit(text)\n",
    "    return vectorizer.transform(text).toarray()\n",
    "\n",
    "\n",
    "\n",
    "doc=[]\n",
    "f = open('doc1.txt')\n",
    "doc.append(str(f.read()))\n",
    "\n",
    "f = open('doc2.txt')\n",
    "doc.append(str(f.read()))\n",
    "\n",
    "get_cosine_sim(doc[0],doc[1])\n",
    "\n",
    " "
   ]
  },
  {
   "cell_type": "code",
   "execution_count": null,
   "metadata": {},
   "outputs": [],
   "source": []
  }
 ],
 "metadata": {
  "kernelspec": {
   "display_name": "Python 3",
   "language": "python",
   "name": "python3"
  },
  "language_info": {
   "codemirror_mode": {
    "name": "ipython",
    "version": 3
   },
   "file_extension": ".py",
   "mimetype": "text/x-python",
   "name": "python",
   "nbconvert_exporter": "python",
   "pygments_lexer": "ipython3",
   "version": "3.6.7"
  }
 },
 "nbformat": 4,
 "nbformat_minor": 2
}
