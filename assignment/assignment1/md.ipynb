{
 "cells": [
  {
   "cell_type": "code",
   "execution_count": 3,
   "metadata": {},
   "outputs": [],
   "source": [
    "from scipy.spatial import distance\n",
    "import numpy as np"
   ]
  },
  {
   "cell_type": "code",
   "execution_count": 4,
   "metadata": {},
   "outputs": [],
   "source": [
    "def MD(x):\n",
    "    n=len(x)\n",
    "    y=np.array(x)\n",
    "    mean=np.mean(y, axis=0)\n",
    "    print(\"mean of each dimension\")\n",
    "    print(mean)\n",
    "    print(\"\")\n",
    "    for x in y:\n",
    "        z=y-mean\n",
    "    #print(\"deviation matrix\")\n",
    "    #print(z)\n",
    "    k=z.T\n",
    "    #print(k.shape)\n",
    "    t=np.matmul(k, z)/(n-1)\n",
    "    print(\"co-variance matrix\")\n",
    "    print(t)\n",
    "    #print(\"inverse covariance matrix\")\n",
    "    p = np.linalg.inv(t)\n",
    "    #print(p)\n",
    "    return p,mean\n",
    "    \n",
    "    "
   ]
  },
  {
   "cell_type": "code",
   "execution_count": 5,
   "metadata": {},
   "outputs": [],
   "source": [
    "def medv(covar,mean,v):\n",
    "    vect=np.array(v)\n",
    "    vect=vect-mean;\n",
    "    \n",
    "    vectt=np.array(vect.T)\n",
    "   \n",
    "    z=np.matmul(vectt,covar)\n",
    "    return np.sqrt(np.matmul(z,vect))"
   ]
  },
  {
   "cell_type": "code",
   "execution_count": 15,
   "metadata": {},
   "outputs": [],
   "source": [
    "x=[[64,580,29],\n",
    "   [66,570,33],\n",
    "   [68,590,37],\n",
    "   [69,660,46],\n",
    "   [73,600,55]\n",
    "  ]"
   ]
  },
  {
   "cell_type": "code",
   "execution_count": 16,
   "metadata": {},
   "outputs": [
    {
     "name": "stdout",
     "output_type": "stream",
     "text": [
      "5\n",
      "mean of each dimension\n",
      "[ 68. 600.  40.]\n",
      "\n",
      "co-variance matrix\n",
      "[[  11.5    50.     34.75]\n",
      " [  50.   1250.    205.  ]\n",
      " [  34.75  205.    110.  ]]\n"
     ]
    }
   ],
   "source": [
    "print(len(x))\n",
    "covarin,mean=MD(x)"
   ]
  },
  {
   "cell_type": "code",
   "execution_count": 8,
   "metadata": {},
   "outputs": [],
   "source": [
    "d=medv(covarin,mean,[66,640,44])"
   ]
  },
  {
   "cell_type": "code",
   "execution_count": 9,
   "metadata": {},
   "outputs": [
    {
     "data": {
      "text/plain": [
       "5.334540488762537"
      ]
     },
     "execution_count": 9,
     "metadata": {},
     "output_type": "execute_result"
    }
   ],
   "source": [
    "d"
   ]
  },
  {
   "cell_type": "code",
   "execution_count": 10,
   "metadata": {},
   "outputs": [],
   "source": [
    "#inputs\n",
    "x=[[28,31,130.0,68.12],\n",
    "   [24,28,143.0,127.89],\n",
    "   [28,20,136.0,89.03],\n",
    "   [32,34,130.5,78.28],\n",
    "   [22,15, 125.0, 134.08],\n",
    "   [26,37,147.5,135.31],\n",
    "   [24 ,19 ,135.0 ,130.48],\n",
    "   [28 ,22 ,125.0,86.48],\n",
    "    [24,26,127.0,129.47],\n",
    "   [30,21 ,139.0,82.43],\n",
    "  [22,20,121.5,127.41],\n",
    "  [30,38,150.5,71.21],\n",
    "  [24,17 ,120.0, 132.06],\n",
    "  [26,20,125.0,90.85]]\n",
    "v=[[30 ,20, 133, 189.6]\n",
    ",[22 ,30 ,100.06 ,126.0075]\n",
    ",[28.47 ,20.11, 133.06, 188.90]]\n"
   ]
  },
  {
   "cell_type": "code",
   "execution_count": 11,
   "metadata": {},
   "outputs": [
    {
     "name": "stdout",
     "output_type": "stream",
     "text": [
      "mean of each dimension\n",
      "[ 26.28571429  24.85714286 132.5        105.93571429]\n",
      "\n",
      "co-variance matrix\n",
      "[[  9.75824176  12.81318681  12.07692308 -72.15406593]\n",
      " [ 12.81318681  56.9010989   49.11538462 -70.62065934]\n",
      " [ 12.07692308  49.11538462  92.80769231 -46.06961538]\n",
      " [-72.15406593 -70.62065934 -46.06961538 714.00118022]]\n",
      "\n",
      "inverse covariance matrix\n",
      "[[ 0.58465881 -0.04194565 -0.02749362  0.0531605 ]\n",
      " [-0.04194565  0.03896147 -0.01585996 -0.00140858]\n",
      " [-0.02749362 -0.01585996  0.02126939 -0.00297471]\n",
      " [ 0.0531605  -0.00140858 -0.00297471  0.00644149]]\n"
     ]
    }
   ],
   "source": [
    "covarin,mean=MD(x)\n",
    "d=[]\n",
    "print(\"\")\n",
    "print(\"inverse covariance matrix\")\n",
    "print(covarin)\n",
    "\n"
   ]
  },
  {
   "cell_type": "code",
   "execution_count": 12,
   "metadata": {},
   "outputs": [],
   "source": [
    "for i in range (3):\n",
    "    d.append(medv(covarin,mean,v[i]))"
   ]
  },
  {
   "cell_type": "code",
   "execution_count": 13,
   "metadata": {},
   "outputs": [
    {
     "data": {
      "text/plain": [
       "[9.46059352152669, 5.5389941702554735, 8.30654313092512]"
      ]
     },
     "execution_count": 13,
     "metadata": {},
     "output_type": "execute_result"
    }
   ],
   "source": [
    "d"
   ]
  },
  {
   "cell_type": "code",
   "execution_count": 14,
   "metadata": {},
   "outputs": [
    {
     "name": "stdout",
     "output_type": "stream",
     "text": [
      "5.5389941702554735\n"
     ]
    }
   ],
   "source": [
    "print(min(d))"
   ]
  },
  {
   "cell_type": "code",
   "execution_count": null,
   "metadata": {},
   "outputs": [],
   "source": []
  }
 ],
 "metadata": {
  "kernelspec": {
   "display_name": "Python 3",
   "language": "python",
   "name": "python3"
  },
  "language_info": {
   "codemirror_mode": {
    "name": "ipython",
    "version": 3
   },
   "file_extension": ".py",
   "mimetype": "text/x-python",
   "name": "python",
   "nbconvert_exporter": "python",
   "pygments_lexer": "ipython3",
   "version": "3.6.7"
  }
 },
 "nbformat": 4,
 "nbformat_minor": 2
}
