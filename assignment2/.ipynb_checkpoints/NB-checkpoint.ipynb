{
 "cells": [
  {
   "cell_type": "code",
   "execution_count": 48,
   "metadata": {},
   "outputs": [],
   "source": [
    "import pandas as pd\n",
    "import numpy as np\n",
    "import sys\n",
    "import os\n",
    "\n",
    "from sklearn.model_selection import train_test_split\n",
    "from sklearn.metrics import accuracy_score\n",
    "from sklearn.metrics import confusion_matrix"
   ]
  },
  {
   "cell_type": "code",
   "execution_count": 49,
   "metadata": {},
   "outputs": [],
   "source": [
    "def MD(x):\n",
    "    n=len(x)\n",
    "    y=np.array(x)\n",
    "    mean=np.mean(y, axis=0)\n",
    "#     print(\"mean of each dimension\")\n",
    "#     print(mean)\n",
    "#     print(\"\")\n",
    "    for x in y:\n",
    "        z=y-mean\n",
    "    #print(\"deviation matrix\")\n",
    "    #print(z)\n",
    "    k=z.T\n",
    "    #print(k.shape)\n",
    "    t=np.matmul(k, z)/(n-1)\n",
    "#     print(\"co-variance matrix\")\n",
    "#     print(t)\n",
    "#     print(\"inverse covariance matrix\")\n",
    "    p = np.linalg.inv(t)\n",
    "#     print(p)\n",
    "    return p,mean, np.linalg.det(t) "
   ]
  },
  {
   "cell_type": "code",
   "execution_count": 50,
   "metadata": {},
   "outputs": [],
   "source": [
    "def medv(covar,mean,v):\n",
    "    vect=np.array(v)\n",
    "    vect=vect-mean;\n",
    "    \n",
    "    vectt=np.array(vect.T)\n",
    "   \n",
    "    z=np.matmul(vectt,covar)\n",
    "    return np.sqrt(np.matmul(z,vect)*0.5)"
   ]
  },
  {
   "cell_type": "code",
   "execution_count": 51,
   "metadata": {},
   "outputs": [],
   "source": [
    "def predict(incovar,mean_c,y,pwi,det):\n",
    "    dis=[]\n",
    "\n",
    "    for i  in range(3):\n",
    "        dis.append(medv(incovar[i],mean_c[i],y))\n",
    "    res=[]\n",
    "    res=np.log(pwi)-dis-np.log(det)\n",
    "    res=list(res)\n",
    "    return res.index(max(res))\n",
    "    "
   ]
  },
  {
   "cell_type": "code",
   "execution_count": 52,
   "metadata": {},
   "outputs": [],
   "source": [
    "def NB(data):\n",
    "    data.head()\n",
    "    data['species']=data[\"species\"].astype(\"category\")\n",
    "    data['species']=data[\"species\"].cat.codes\n",
    "    X=data\n",
    "    y=data.iloc[:,-1]\n",
    "    X_train, X_test, y_train, y_test = train_test_split(X, y, test_size=0.2, random_state=0)\n",
    "    df=[]\n",
    "    for i in range(3):\n",
    "        df.append((X_train[X_train[\"species\"]==i]))\n",
    "#     df[1]=(X_train[X_train[\"species\"]==1])\n",
    "#     df[2]=(X_train[X_train[\"species\"]==2])\n",
    "    df[0]=df[0].iloc[:,:-1]\n",
    "    df[1]=df[1].iloc[:,:-1]\n",
    "    df[2]=df[2].iloc[:,:-1]\n",
    "    pwi=[]\n",
    "    for i  in range(3):\n",
    "        pwi.append(len(df[i])/(len(df[0])+len(df[1])+len(df[2])))\n",
    "    X_test=X_test.iloc[:,:-1]\n",
    "    X_test=X_test.values\n",
    "    incovar=[]\n",
    "    mean_c=[]\n",
    "    det=[]\n",
    "    for i in range(3):\n",
    "        covar,mean,det_i=MD(df[i])\n",
    "        incovar.append(covar)\n",
    "        mean_c.append(mean)\n",
    "        det.append(det_i)\n",
    "    y_pred=[]\n",
    "    for i in range(len(X_test)):\n",
    "           y_pred.append(predict(incovar,mean_c,X_test[i],pwi,det))\n",
    "    return y_pred,y_test"
   ]
  },
  {
   "cell_type": "code",
   "execution_count": 61,
   "metadata": {},
   "outputs": [],
   "source": [
    "data=pd.read_csv(\"IRIS.csv\")\n",
    "target_names=data[\"species\"].unique()"
   ]
  },
  {
   "cell_type": "code",
   "execution_count": 54,
   "metadata": {},
   "outputs": [],
   "source": [
    "y_pred,y_test=NB(data)"
   ]
  },
  {
   "cell_type": "code",
   "execution_count": 55,
   "metadata": {},
   "outputs": [
    {
     "data": {
      "text/plain": [
       "0.9666666666666667"
      ]
     },
     "execution_count": 55,
     "metadata": {},
     "output_type": "execute_result"
    }
   ],
   "source": [
    "accuracy_score(y_pred,y_test)"
   ]
  },
  {
   "cell_type": "code",
   "execution_count": 70,
   "metadata": {},
   "outputs": [
    {
     "name": "stdout",
     "output_type": "stream",
     "text": [
      "[[11  0  0]\n",
      " [ 0 13  0]\n",
      " [ 0  1  5]]\n"
     ]
    }
   ],
   "source": [
    "print(confusion_matrix(y_test, y_pred))"
   ]
  },
  {
   "cell_type": "code",
   "execution_count": 42,
   "metadata": {},
   "outputs": [],
   "source": [
    "from sklearn.metrics import classification_report"
   ]
  },
  {
   "cell_type": "code",
   "execution_count": 67,
   "metadata": {
    "scrolled": false
   },
   "outputs": [
    {
     "name": "stdout",
     "output_type": "stream",
     "text": [
      "                 precision    recall  f1-score   support\n",
      "\n",
      "    Iris-setosa       1.00      1.00      1.00        11\n",
      "Iris-versicolor       0.93      1.00      0.96        13\n",
      " Iris-virginica       1.00      0.83      0.91         6\n",
      "\n",
      "      micro avg       0.97      0.97      0.97        30\n",
      "      macro avg       0.98      0.94      0.96        30\n",
      "   weighted avg       0.97      0.97      0.97        30\n",
      "\n"
     ]
    }
   ],
   "source": [
    "print(classification_report(y_test,y_pred,target_names=target_names))"
   ]
  },
  {
   "cell_type": "code",
   "execution_count": null,
   "metadata": {},
   "outputs": [],
   "source": []
  }
 ],
 "metadata": {
  "kernelspec": {
   "display_name": "Python 3",
   "language": "python",
   "name": "python3"
  },
  "language_info": {
   "codemirror_mode": {
    "name": "ipython",
    "version": 3
   },
   "file_extension": ".py",
   "mimetype": "text/x-python",
   "name": "python",
   "nbconvert_exporter": "python",
   "pygments_lexer": "ipython3",
   "version": "3.6.7"
  }
 },
 "nbformat": 4,
 "nbformat_minor": 2
}
