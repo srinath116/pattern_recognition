{
 "cells": [
  {
   "cell_type": "code",
   "execution_count": 318,
   "metadata": {},
   "outputs": [],
   "source": [
    "import pandas as pd\n",
    "import numpy as np\n",
    "import sys\n",
    "import os\n",
    "\n",
    "from sklearn.model_selection import train_test_split\n",
    "from sklearn.metrics import accuracy_score"
   ]
  },
  {
   "cell_type": "code",
   "execution_count": 313,
   "metadata": {},
   "outputs": [],
   "source": [
    "def MD(x):\n",
    "    n=len(x)\n",
    "    y=np.array(x)\n",
    "    mean=np.mean(y, axis=0)\n",
    "#     print(\"mean of each dimension\")\n",
    "#     print(mean)\n",
    "#     print(\"\")\n",
    "    for x in y:\n",
    "        z=y-mean\n",
    "    #print(\"deviation matrix\")\n",
    "    #print(z)\n",
    "    k=z.T\n",
    "    #print(k.shape)\n",
    "    t=np.matmul(k, z)/(n-1)\n",
    "#     print(\"co-variance matrix\")\n",
    "#     print(t)\n",
    "#     print(\"inverse covariance matrix\")\n",
    "    p = np.linalg.inv(t)\n",
    "#     print(p)\n",
    "    return p,mean"
   ]
  },
  {
   "cell_type": "code",
   "execution_count": 314,
   "metadata": {},
   "outputs": [],
   "source": [
    "def medv(covar,mean,v):\n",
    "    vect=np.array(v)\n",
    "    vect=vect-mean;\n",
    "    \n",
    "    vectt=np.array(vect.T)\n",
    "   \n",
    "    z=np.matmul(vectt,covar)\n",
    "    return np.sqrt(np.matmul(z,vect)*0.5)"
   ]
  },
  {
   "cell_type": "code",
   "execution_count": 315,
   "metadata": {},
   "outputs": [],
   "source": [
    "def predict(incovar,mean_c,y,pwi):\n",
    "    dis=[]\n",
    "\n",
    "    for i  in range(3):\n",
    "        dis.append(medv(incovar[i],mean_c[i],y))\n",
    "    res=[]\n",
    "    res=np.log(pwi)-dis\n",
    "    res=list(res)\n",
    "    return res.index(max(res))\n",
    "    "
   ]
  },
  {
   "cell_type": "code",
   "execution_count": 331,
   "metadata": {},
   "outputs": [],
   "source": [
    "def NB(data):\n",
    "    data.head()\n",
    "    data['species']=data[\"species\"].astype(\"category\")\n",
    "    data['species']=data[\"species\"].cat.codes\n",
    "    X=data\n",
    "    y=data.iloc[:,-1]\n",
    "    X_train, X_test, y_train, y_test = train_test_split(X, y, test_size=0.33, random_state=0)\n",
    "    df[0]=(X_train[X_train[\"species\"]==0])\n",
    "    df[1]=(X_train[X_train[\"species\"]==1])\n",
    "    df[2]=(X_train[X_train[\"species\"]==2])\n",
    "    df[0]=df[0].iloc[:,:-1]\n",
    "    df[1]=df[1].iloc[:,:-1]\n",
    "    df[2]=df[2].iloc[:,:-1]\n",
    "    pwi=[]\n",
    "    for i  in range(3):\n",
    "        pwi.append(len(df[i])/(len(df[0])+len(df[1])+len(df[2])))\n",
    "    X_test=X_test.iloc[:,:-1]\n",
    "    X_test=X_test.values\n",
    "    incovar=[]\n",
    "    mean_c=[]\n",
    "    for i in range(3):\n",
    "        covar,mean=MD(df[i])\n",
    "        incovar.append(covar)\n",
    "        mean_c.append(mean)\n",
    "    y_pred=[]\n",
    "    for i in range(len(X_test)):\n",
    "           y_pred.append(predict(incovar,mean_c,X_test[i],pwi))\n",
    "    return y_pred"
   ]
  },
  {
   "cell_type": "code",
   "execution_count": 332,
   "metadata": {},
   "outputs": [],
   "source": [
    "data=pd.read_csv(\"IRIS.csv\")\n"
   ]
  },
  {
   "cell_type": "code",
   "execution_count": 333,
   "metadata": {},
   "outputs": [],
   "source": [
    "y_pred=NB(data)"
   ]
  },
  {
   "cell_type": "code",
   "execution_count": 335,
   "metadata": {},
   "outputs": [
    {
     "data": {
      "text/plain": [
       "0.98"
      ]
     },
     "execution_count": 335,
     "metadata": {},
     "output_type": "execute_result"
    }
   ],
   "source": [
    "accuracy_score(y_pred,y_test)"
   ]
  },
  {
   "cell_type": "code",
   "execution_count": 340,
   "metadata": {},
   "outputs": [
    {
     "name": "stdout",
     "output_type": "stream",
     "text": [
      "inv covariance matrix of each class 0\n",
      "[[ 17.5108862  -10.8996166   -3.3076713   -6.96844916]\n",
      " [-10.8996166   13.81534612  -0.85567388  -2.28486839]\n",
      " [ -3.3076713   -0.85567388  56.35280943 -23.50823568]\n",
      " [ -6.96844916  -2.28486839 -23.50823568 129.20215515]]\n",
      "\n",
      "inv covariance matrix of each class 1\n",
      "[[ 11.42928589  -3.11344839 -11.18471712   6.83505858]\n",
      " [ -3.11344839  15.44526866   1.53471281 -12.22931609]\n",
      " [-11.18471712   1.53471281  23.66592834 -29.79628782]\n",
      " [  6.83505858 -12.22931609 -29.79628782  82.1481057 ]]\n",
      "\n",
      "inv covariance matrix of each class 2\n",
      "[[ 12.29544664  -3.43766766 -12.61466355   2.67163196]\n",
      " [ -3.43766766  13.7830845    1.59137505  -7.07419201]\n",
      " [-12.61466355   1.59137505  16.66838174  -5.15047318]\n",
      " [  2.67163196  -7.07419201  -5.15047318  23.94130465]]\n",
      "\n"
     ]
    }
   ],
   "source": [
    "\n",
    "for i in range(3):\n",
    "    print(\"inv covariance matrix of each class \"+ str(i))\n",
    "    print(incovar[i])\n",
    "    print(\"\")"
   ]
  },
  {
   "cell_type": "code",
   "execution_count": 342,
   "metadata": {},
   "outputs": [
    {
     "data": {
      "text/plain": [
       "50"
      ]
     },
     "execution_count": 342,
     "metadata": {},
     "output_type": "execute_result"
    }
   ],
   "source": []
  },
  {
   "cell_type": "code",
   "execution_count": null,
   "metadata": {},
   "outputs": [],
   "source": []
  },
  {
   "cell_type": "code",
   "execution_count": null,
   "metadata": {},
   "outputs": [],
   "source": []
  }
 ],
 "metadata": {
  "kernelspec": {
   "display_name": "Python 3",
   "language": "python",
   "name": "python3"
  },
  "language_info": {
   "codemirror_mode": {
    "name": "ipython",
    "version": 3
   },
   "file_extension": ".py",
   "mimetype": "text/x-python",
   "name": "python",
   "nbconvert_exporter": "python",
   "pygments_lexer": "ipython3",
   "version": "3.6.7"
  }
 },
 "nbformat": 4,
 "nbformat_minor": 2
}
