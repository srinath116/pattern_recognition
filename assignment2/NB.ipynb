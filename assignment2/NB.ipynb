{
 "cells": [
  {
   "cell_type": "code",
   "execution_count": 1,
   "metadata": {},
   "outputs": [],
   "source": [
    "import pandas as pd\n",
    "import numpy as np\n",
    "import sys\n",
    "import os\n",
    "\n",
    "from sklearn.model_selection import train_test_split\n",
    "from sklearn.metrics import accuracy_score\n",
    "from sklearn.metrics import confusion_matrix"
   ]
  },
  {
   "cell_type": "code",
   "execution_count": 2,
   "metadata": {},
   "outputs": [],
   "source": [
    "def MD(x):\n",
    "    n=len(x)\n",
    "    y=np.array(x)\n",
    "    mean=np.mean(y, axis=0)\n",
    "#     print(\"mean of each dimension\")\n",
    "#     print(mean)\n",
    "#     print(\"\")\n",
    "    for x in y:\n",
    "        z=y-mean\n",
    "    #print(\"deviation matrix\")\n",
    "    #print(z)\n",
    "    k=z.T\n",
    "    #print(k.shape)\n",
    "    t=np.matmul(k, z)/(n-1)\n",
    "#     print(\"co-variance matrix\")\n",
    "#     print(t)\n",
    "#     print(\"inverse covariance matrix\")\n",
    "    p = np.linalg.inv(t)\n",
    "#     print(p)\n",
    "    return p,mean, np.linalg.det(t) "
   ]
  },
  {
   "cell_type": "code",
   "execution_count": 3,
   "metadata": {},
   "outputs": [],
   "source": [
    "def medv(covar,mean,v):\n",
    "    vect=np.array(v)\n",
    "    vect=vect-mean;\n",
    "    \n",
    "    vectt=np.array(vect.T)\n",
    "   \n",
    "    z=np.matmul(vectt,covar)\n",
    "    return np.sqrt(np.matmul(z,vect)*0.5)"
   ]
  },
  {
   "cell_type": "code",
   "execution_count": 4,
   "metadata": {},
   "outputs": [],
   "source": [
    "def predict(incovar,mean_c,y,pwi,det):\n",
    "    dis=[]\n",
    "\n",
    "    for i  in range(3):\n",
    "        dis.append(medv(incovar[i],mean_c[i],y))\n",
    "    res=[]\n",
    "    res=np.log(pwi)-dis-np.log(det)\n",
    "    res=list(res)\n",
    "    return res.index(max(res))\n",
    "    "
   ]
  },
  {
   "cell_type": "code",
   "execution_count": 5,
   "metadata": {},
   "outputs": [],
   "source": [
    "def NB(data):\n",
    "    data.head()\n",
    "    data['species']=data[\"species\"].astype(\"category\")\n",
    "    data['species']=data[\"species\"].cat.codes\n",
    "    X=data\n",
    "    y=data.iloc[:,-1]\n",
    "    X_train, X_test, y_train, y_test = train_test_split(X, y, test_size=0.2, random_state=0)\n",
    "    df=[]\n",
    "    for i in range(3):\n",
    "        df.append((X_train[X_train[\"species\"]==i]))\n",
    "#     df[1]=(X_train[X_train[\"species\"]==1])\n",
    "#     df[2]=(X_train[X_train[\"species\"]==2])\n",
    "    df[0]=df[0].iloc[:,:-1]\n",
    "    df[1]=df[1].iloc[:,:-1]\n",
    "    df[2]=df[2].iloc[:,:-1]\n",
    "    pwi=[]\n",
    "    for i  in range(3):\n",
    "        pwi.append(len(df[i])/(len(df[0])+len(df[1])+len(df[2])))\n",
    "    X_test=X_test.iloc[:,:-1]\n",
    "    X_test=X_test.values\n",
    "    incovar=[]\n",
    "    mean_c=[]\n",
    "    det=[]\n",
    "    for i in range(3):\n",
    "        covar,mean,det_i=MD(df[i])\n",
    "        incovar.append(covar)\n",
    "        mean_c.append(mean)\n",
    "        det.append(det_i)\n",
    "    y_pred=[]\n",
    "    for i in range(3):\n",
    "        print(\"invcovariance of class  \" +str(i))\n",
    "        print(incovar[i])\n",
    "        print(\"mean of class \"+str(mean[i]))\n",
    "        \n",
    "        print(\"determinant of covariance matrix of class \" +str(det[i]))\n",
    "    \n",
    "    for i in range(len(X_test)):\n",
    "           y_pred.append(predict(incovar,mean_c,X_test[i],pwi,det))\n",
    "    return y_pred,y_test"
   ]
  },
  {
   "cell_type": "code",
   "execution_count": 6,
   "metadata": {},
   "outputs": [],
   "source": [
    "data=pd.read_csv(\"IRIS.csv\")\n",
    "target_names=data[\"species\"].unique()"
   ]
  },
  {
   "cell_type": "code",
   "execution_count": 11,
   "metadata": {},
   "outputs": [
    {
     "name": "stdout",
     "output_type": "stream",
     "text": [
      "invcovariance of class  0\n",
      "[[ 17.9672428  -11.99606559  -6.31379103  -2.04050942]\n",
      " [-11.99606559  15.7190156   -0.1571023   -3.52989501]\n",
      " [ -6.31379103  -0.1571023   60.77171554 -24.73554188]\n",
      " [ -2.04050942  -3.52989501 -24.73554188 101.5594296 ]]\n",
      "mean of class 6.638636363636365\n",
      "determinant of covariance matrix of class 1.5324203799090606e-06\n",
      "invcovariance of class  1\n",
      "[[  9.95448984  -3.94038886  -9.68031051   8.76907022]\n",
      " [ -3.94038886  16.38693257   2.6877528  -15.55514891]\n",
      " [ -9.68031051   2.6877528   22.02656959 -31.8070975 ]\n",
      " [  8.76907022 -15.55514891 -31.8070975   88.2496317 ]]\n",
      "mean of class 2.9886363636363638\n",
      "determinant of covariance matrix of class 2.266150525091067e-05\n",
      "invcovariance of class  2\n",
      "[[ 12.30668944  -3.48765214 -11.86806516   1.12520534]\n",
      " [ -3.48765214  14.37944062   1.56758672  -8.01565586]\n",
      " [-11.86806516   1.56758672  15.595557    -3.30390592]\n",
      " [  1.12520534  -8.01565586  -3.30390592  22.39509436]]\n",
      "mean of class 5.5659090909090905\n",
      "determinant of covariance matrix of class 0.00010234300093525572\n"
     ]
    }
   ],
   "source": [
    "y_pred,y_test=NB(data)"
   ]
  },
  {
   "cell_type": "code",
   "execution_count": 12,
   "metadata": {},
   "outputs": [
    {
     "data": {
      "text/plain": [
       "0.9666666666666667"
      ]
     },
     "execution_count": 12,
     "metadata": {},
     "output_type": "execute_result"
    }
   ],
   "source": [
    "accuracy_score(y_pred,y_test)"
   ]
  },
  {
   "cell_type": "code",
   "execution_count": 13,
   "metadata": {
    "scrolled": true
   },
   "outputs": [
    {
     "name": "stdout",
     "output_type": "stream",
     "text": [
      "[[11  0  0]\n",
      " [ 0 13  0]\n",
      " [ 0  1  5]]\n"
     ]
    }
   ],
   "source": [
    "print(confusion_matrix(y_test, y_pred))"
   ]
  },
  {
   "cell_type": "code",
   "execution_count": 14,
   "metadata": {},
   "outputs": [],
   "source": [
    "from sklearn.metrics import classification_report"
   ]
  },
  {
   "cell_type": "code",
   "execution_count": 15,
   "metadata": {
    "scrolled": false
   },
   "outputs": [
    {
     "name": "stdout",
     "output_type": "stream",
     "text": [
      "                 precision    recall  f1-score   support\n",
      "\n",
      "    Iris-setosa       1.00      1.00      1.00        11\n",
      "Iris-versicolor       0.93      1.00      0.96        13\n",
      " Iris-virginica       1.00      0.83      0.91         6\n",
      "\n",
      "      micro avg       0.97      0.97      0.97        30\n",
      "      macro avg       0.98      0.94      0.96        30\n",
      "   weighted avg       0.97      0.97      0.97        30\n",
      "\n"
     ]
    }
   ],
   "source": [
    "print(classification_report(y_test,y_pred,target_names=target_names))"
   ]
  },
  {
   "cell_type": "code",
   "execution_count": 21,
   "metadata": {},
   "outputs": [],
   "source": [
    "\n",
    "cm = confusion_matrix(y_test, y_pred)\n",
    "#Now the normalize the diagonal entries\n",
    "cm = cm.astype('float') / cm.sum(axis=1)[:, np.newaxis]"
   ]
  },
  {
   "cell_type": "code",
   "execution_count": 22,
   "metadata": {},
   "outputs": [],
   "source": [
    "class_acc=cm.diagonal()\n",
    "class_acc=list(class_acc)"
   ]
  },
  {
   "cell_type": "code",
   "execution_count": 23,
   "metadata": {},
   "outputs": [
    {
     "data": {
      "text/plain": [
       "[1.0, 1.0, 0.8333333333333334]"
      ]
     },
     "execution_count": 23,
     "metadata": {},
     "output_type": "execute_result"
    }
   ],
   "source": [
    "class_acc"
   ]
  },
  {
   "cell_type": "code",
   "execution_count": 7,
   "metadata": {},
   "outputs": [
    {
     "name": "stdout",
     "output_type": "stream",
     "text": [
      "<pandas.core.groupby.generic.DataFrameGroupBy object at 0x7f360c031588>\n"
     ]
    }
   ],
   "source": [
    "print(data.groupby('species'))"
   ]
  },
  {
   "cell_type": "code",
   "execution_count": 9,
   "metadata": {},
   "outputs": [],
   "source": [
    "x=data.groupby('species')"
   ]
  },
  {
   "cell_type": "code",
   "execution_count": 10,
   "metadata": {},
   "outputs": [
    {
     "data": {
      "text/plain": [
       "<pandas.core.groupby.generic.DataFrameGroupBy object at 0x7f360c031358>"
      ]
     },
     "execution_count": 10,
     "metadata": {},
     "output_type": "execute_result"
    }
   ],
   "source": []
  },
  {
   "cell_type": "code",
   "execution_count": null,
   "metadata": {},
   "outputs": [],
   "source": []
  },
  {
   "cell_type": "code",
   "execution_count": null,
   "metadata": {},
   "outputs": [],
   "source": []
  }
 ],
 "metadata": {
  "kernelspec": {
   "display_name": "Python 3",
   "language": "python",
   "name": "python3"
  },
  "language_info": {
   "codemirror_mode": {
    "name": "ipython",
    "version": 3
   },
   "file_extension": ".py",
   "mimetype": "text/x-python",
   "name": "python",
   "nbconvert_exporter": "python",
   "pygments_lexer": "ipython3",
   "version": "3.6.7"
  }
 },
 "nbformat": 4,
 "nbformat_minor": 2
}
