{
 "cells": [
  {
   "cell_type": "code",
   "execution_count": 1,
   "metadata": {},
   "outputs": [],
   "source": [
    "import pandas as pd \n",
    "import numpy as np \n",
    "from fractions import Fraction"
   ]
  },
  {
   "cell_type": "code",
   "execution_count": 2,
   "metadata": {},
   "outputs": [],
   "source": [
    "import matplotlib.pyplot as plt\n"
   ]
  },
  {
   "cell_type": "code",
   "execution_count": 3,
   "metadata": {},
   "outputs": [],
   "source": [
    "def find_int(arr):\n",
    "    test = False\n",
    "    epsilon = 1e-15\n",
    "    maxint = 1000\n",
    "    for i in range(2, maxint, 1):\n",
    "        for item in arr:\n",
    "            if abs(i*item-round(i*item)) < epsilon:\n",
    "                test = True\n",
    "            else:\n",
    "                test = False\n",
    "                break\n",
    "        if test:\n",
    "            #print (i)\n",
    "            return [int(round(i*item)) for item in arr]\n",
    "    print (\"Could not find one\")\n",
    "    return arr"
   ]
  },
  {
   "cell_type": "code",
   "execution_count": 4,
   "metadata": {},
   "outputs": [],
   "source": [
    "def predict(x,w,y):\n",
    "     \n",
    "    if np.dot(w, x)  > 0  :\n",
    "        return 1\n",
    "    else :\n",
    "        return 0"
   ]
  },
  {
   "cell_type": "code",
   "execution_count": 5,
   "metadata": {},
   "outputs": [],
   "source": [
    "def fit(X,Y,epoch=10,lr=1):\n",
    "    flag=0;\n",
    "    k=0\n",
    "    w = np.zeros(X.shape[1])\n",
    "    for i in range(epoch):\n",
    "        for j in  range(X.shape[0]) :\n",
    "                flag=0;\n",
    "                x=X[j]\n",
    "                y=Y[j]\n",
    "                y_pred = predict(x,w,y)\n",
    "                #print(y_pred)\n",
    "                if  y_pred == 0:\n",
    "                    k=k+1;\n",
    "                    print(\"a\"+str(k)+(\"is :\")+ str(w))\n",
    "                    \n",
    "                    flag=1;\n",
    "                    w = w + lr * x\n",
    "                    \n",
    "                    #print(w)\n",
    "                    break \n",
    "        if flag==0:\n",
    "            print(flag)\n",
    "            return (find_int(w))\n",
    "        \n",
    "        \n",
    "                \n",
    "    print(flag)   \n",
    "    return (find_int(w))"
   ]
  },
  {
   "cell_type": "code",
   "execution_count": 6,
   "metadata": {},
   "outputs": [],
   "source": [
    "df=pd.read_csv('data.csv')"
   ]
  },
  {
   "cell_type": "code",
   "execution_count": 7,
   "metadata": {},
   "outputs": [],
   "source": [
    "x=df.iloc[:,0:3]"
   ]
  },
  {
   "cell_type": "code",
   "execution_count": 8,
   "metadata": {},
   "outputs": [],
   "source": [
    "y=df['y']"
   ]
  },
  {
   "cell_type": "code",
   "execution_count": 9,
   "metadata": {},
   "outputs": [],
   "source": [
    "x=x.values"
   ]
  },
  {
   "cell_type": "code",
   "execution_count": 10,
   "metadata": {},
   "outputs": [],
   "source": [
    "y=y.values"
   ]
  },
  {
   "cell_type": "code",
   "execution_count": 11,
   "metadata": {},
   "outputs": [
    {
     "name": "stdout",
     "output_type": "stream",
     "text": [
      "a1is :[0. 0. 0.]\n",
      "a2is :[ 0.  0. -1.]\n",
      "a3is :[0. 1. 0.]\n",
      "a4is :[ 0.  1. -1.]\n",
      "a5is :[0. 2. 0.]\n",
      "a6is :[ 0.  2. -1.]\n",
      "a7is :[1. 2. 0.]\n",
      "a8is :[ 1.  2. -1.]\n",
      "a9is :[2. 2. 0.]\n",
      "0\n",
      "[4, 4, -2]\n"
     ]
    }
   ],
   "source": [
    "w=fit(x,y,10,1)\n",
    "print(w)"
   ]
  },
  {
   "cell_type": "code",
   "execution_count": 12,
   "metadata": {},
   "outputs": [],
   "source": [
    "x1=df['x1'].values.tolist()"
   ]
  },
  {
   "cell_type": "code",
   "execution_count": 13,
   "metadata": {},
   "outputs": [],
   "source": [
    "x2=df['x2'].values.tolist()\n",
    "x3=df['x3'].values.tolist()\n",
    "#x4=-1*x2"
   ]
  },
  {
   "cell_type": "code",
   "execution_count": 14,
   "metadata": {},
   "outputs": [],
   "source": [
    "x4=[-1*i for  i in x1 ]"
   ]
  },
  {
   "cell_type": "code",
   "execution_count": 15,
   "metadata": {},
   "outputs": [],
   "source": [
    "x5=[-1*i for  i in x2 ]"
   ]
  },
  {
   "cell_type": "code",
   "execution_count": 20,
   "metadata": {},
   "outputs": [
    {
     "data": {
      "image/png": "[encoded data removed]",
      "text/plain": [
       "<Figure size 432x288 with 1 Axes>"
      ]
     },
     "metadata": {
      "needs_background": "light"
     },
     "output_type": "display_data"
    }
   ],
   "source": [
    "from mpl_toolkits.mplot3d import Axes3D\n",
    "import matplotlib.pyplot as plt\n",
    "\n",
    "\n",
    "\n",
    "fig = plt.figure()\n",
    "ax = fig.add_subplot(111)\n",
    "\n",
    "for i in range(4):\n",
    "    if y[i]==1 :\n",
    "        ax.scatter(x1[i], x2[i], c='b', marker='o')\n",
    "        ax.scatter(x4[i], x5[i], c='g', marker='o')\n",
    "        \n",
    "    else :\n",
    "        ax.scatter(x1[i], x2[i], c='r', marker='+')\n",
    "\n",
    "ax.set_xlabel('X Label')\n",
    "ax.set_ylabel('Y Label')\n",
    "\n",
    "\n",
    "a=w[0]\n",
    "b=w[1]\n",
    "c=w[2]\n",
    "#c=0\n",
    "t = np.linspace(-1,1,5)\n",
    "#a*x+by+c=0\n",
    "z=(a*t+c)/-b\n",
    "plt.plot(t, z, '-r', label='4x+4y-2=0')\n",
    "\n",
    "plt.xlabel('x', color='#1C2833')\n",
    "plt.ylabel('y', color='#1C2833')\n",
    "plt.legend(loc='upper left')\n",
    "plt.grid()\n",
    "plt.show()"
   ]
  },
  {
   "cell_type": "code",
   "execution_count": 18,
   "metadata": {},
   "outputs": [
    {
     "data": {
      "text/plain": [
       "[4, 4, -2]"
      ]
     },
     "execution_count": 18,
     "metadata": {},
     "output_type": "execute_result"
    }
   ],
   "source": [
    "w\n"
   ]
  },
  {
   "cell_type": "code",
   "execution_count": null,
   "metadata": {},
   "outputs": [],
   "source": []
  }
 ],
 "metadata": {
  "kernelspec": {
   "display_name": "Python 3",
   "language": "python",
   "name": "python3"
  },
  "language_info": {
   "codemirror_mode": {
    "name": "ipython",
    "version": 3
   },
   "file_extension": ".py",
   "mimetype": "text/x-python",
   "name": "python",
   "nbconvert_exporter": "python",
   "pygments_lexer": "ipython3",
   "version": "3.6.7"
  }
 },
 "nbformat": 4,
 "nbformat_minor": 2
}
